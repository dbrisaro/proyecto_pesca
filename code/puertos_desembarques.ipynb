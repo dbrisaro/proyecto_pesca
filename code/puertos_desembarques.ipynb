{
 "cells": [
  {
   "cell_type": "code",
   "execution_count": 1,
   "metadata": {},
   "outputs": [],
   "source": [
    "import pandas as pd\n",
    "import numpy as np\n",
    "import matplotlib.pyplot as plt\n",
    "import matplotlib.ticker as tick"
   ]
  },
  {
   "cell_type": "code",
   "execution_count": 2,
   "metadata": {},
   "outputs": [],
   "source": [
    "\n",
    "import matplotlib.font_manager as font_manager\n",
    "import matplotlib as mpl\n",
    "\n",
    "from matplotlib import rcParams\n",
    "pathdata = '/home/daniufundar/Documents/Fundar/indice-mercado-trabajo-ingresos/'\n",
    "pathdata = '/Users/danielarisaro/Documents/Fundar/indice-mercado-trabajo-ingresos/'\n",
    "\n",
    "# Fuente para los graficos\n",
    "font_dir = [pathdata + 'basemaps/Archivo/']\n",
    "for font in font_manager.findSystemFonts(font_dir):\n",
    "    font_manager.fontManager.addfont(font)\n",
    "\n",
    "rcParams['font.family'] = 'Archivo'\n",
    "\n",
    "# Colores fundar\n",
    "fundar_colores_primarios = ['#7BB5C4', '#9FC1AD', '#D3D3E0',  '#8d9bff', '#FF9750', '#FFD900',]\n",
    "fundar_colores_secundarios = ['#B5E0EA', '#B3B3B3', '#848279', '#AFA36E', '#5D896F', '#9C9CBC', '#E27124']\n",
    "fundar_white = '#F5F5F5'\n",
    "fundar_black = '#151515'"
   ]
  },
  {
   "cell_type": "code",
   "execution_count": 3,
   "metadata": {},
   "outputs": [],
   "source": [
    "from shapely import wkt\n",
    "import geopandas as gpd\n",
    "import cartopy.crs as ccrs\n",
    "from cartopy.mpl.ticker import LongitudeFormatter, LatitudeFormatter"
   ]
  },
  {
   "cell_type": "code",
   "execution_count": 4,
   "metadata": {},
   "outputs": [],
   "source": [
    "pathdata = '/Users/danielarisaro/Documents/MPP/Tesis Cambio Climático/'\n",
    "filename = 'captura-puerto-flota-2019.csv'\n",
    "df_pesca_puerto_flota_2019 = pd.read_csv(pathdata + filename, encoding=\"latin\", delimiter=',',  on_bad_lines='skip')\n",
    "filename = 'captura-puerto-flota-2010-2018.csv'\n",
    "df_pesca_puerto_flota_2010_2018 = pd.read_csv(pathdata + filename, encoding=\"latin\", delimiter=',',  on_bad_lines='skip')\n",
    "df_pesca_puerto_flota = pd.concat([df_pesca_puerto_flota_2010_2018, df_pesca_puerto_flota_2019], axis=0)\n"
   ]
  },
  {
   "cell_type": "code",
   "execution_count": 5,
   "metadata": {},
   "outputs": [
    {
     "name": "stderr",
     "output_type": "stream",
     "text": [
      "/var/folders/dd/1s4l1xds2nq03hc9gbgh1fnw0000gn/T/ipykernel_34791/1324088544.py:4: UserWarning: Geometry is in a geographic CRS. Results from 'centroid' are likely incorrect. Use 'GeoSeries.to_crs()' to re-project geometries to a projected CRS before this operation.\n",
      "\n",
      "  gdf_total['centroid'] = gdf_total.centroid;\n"
     ]
    }
   ],
   "source": [
    "df_total = pd.read_csv(pathdata + 'geodb.csv', index_col=[0])\n",
    "df_total['geometry'] = df_total['geometry'].apply(wkt.loads)\n",
    "gdf_total = gpd.GeoDataFrame(df_total, geometry='geometry', crs='epsg:4326')\n",
    "gdf_total['centroid'] = gdf_total.centroid;\n",
    "gdf_total['boundary'] = gdf_total.boundary\n",
    "gdf_reprojected = gdf_total.to_crs(\"EPSG:3395\")"
   ]
  },
  {
   "cell_type": "code",
   "execution_count": 6,
   "metadata": {},
   "outputs": [],
   "source": [
    "puertos_x_y = df_pesca_puerto_flota.groupby(['puerto'])[['latitud', 'longitud']].first()"
   ]
  },
  {
   "cell_type": "code",
   "execution_count": 7,
   "metadata": {},
   "outputs": [],
   "source": [
    "# Directorio de los archivos .xlsx\n",
    "directorio = \"/home/daniufundar/Documents/Fundar/proyecto_pesca/data/Desembarques/\"\n",
    "directorio = '/Users/danielarisaro/Documents/Fundar/proyecto_pesca/data/Desembarques/'"
   ]
  },
  {
   "cell_type": "code",
   "execution_count": 8,
   "metadata": {},
   "outputs": [],
   "source": [
    "puertos_desembarques_2023 = pd.read_csv(directorio + 'Puertos_desembarques_2023.csv', index_col=[0])\n"
   ]
  },
  {
   "cell_type": "code",
   "execution_count": 10,
   "metadata": {},
   "outputs": [],
   "source": [
    "df = puertos_desembarques_2023.copy()\n",
    "\n",
    "df['percentage_catch'] = df['desembarques'] / df['desembarques'].sum() * 100"
   ]
  },
  {
   "cell_type": "code",
   "execution_count": null,
   "metadata": {},
   "outputs": [],
   "source": [
    "\n",
    "min_size = 50  # minimum marker size\n",
    "max_size = 3000  # maximum marker size\n",
    "df['normalized_size'] = np.interp(df['percentage_catch'], (df['percentage_catch'].min(), df['percentage_catch'].max()), (min_size, max_size))\n",
    "\n",
    "fig = plt.figure(figsize=(16, 16))\n",
    "\n",
    "ax = plt.axes([0.05, 0.05, 0.9, 0.9], projection=ccrs.Mercator(), frameon=False)\n",
    "\n",
    "lat_n = -34\n",
    "ax.set_extent([lon_w, lon_e, lat_s, lat_n], crs=ccrs.PlateCarree())\n",
    "ax.set_aspect('equal', 'box')\n",
    "\n",
    "gdf_reprojected.plot(ax=ax, cmap='Greys', edgecolor='none', alpha=0.2)\n",
    "gdf_reprojected.boundary.plot(ax=ax, color='gray', lw=0.5)\n",
    "valid_indices = ~np.isnan(df['normalized_size'])\n",
    "\n",
    "#sc = ax.scatter(df['longitud'][valid_indices], df['latitud'][valid_indices], s=df['normalized_size'][valid_indices], c=df['normalized_size'][valid_indices], marker='o', cmap='viridis_r', transform=ccrs.PlateCarree())\n",
    "\n",
    "#cbar = plt.colorbar(sc, ax=ax, pad=0.02, orientation='vertical')\n",
    "#cbar.set_label('Marker Size', fontsize=12)\n",
    "\n",
    "ax.scatter(df['longitud'][valid_indices], df['latitud'][valid_indices], s=df['normalized_size'][valid_indices], marker='o', color='black', transform=ccrs.PlateCarree())\n",
    "\n",
    "for i in range(len(df)):\n",
    "    if valid_indices[i]:\n",
    "        ax.text(df['longitud'].iloc[i] + 1, df['latitud'].iloc[i]-.5, f\"{df.index[i]}\\n{df['percentage_catch'].iloc[i]:.1f}%\", color='black', fontsize=12, transform=ccrs.PlateCarree())\n",
    "\n",
    "\n",
    "directorio_figs = '/Users/danielarisaro/Documents/Fundar/proyecto_pesca/figs/'\n",
    "fig.savefig(directorio_figs + 'mapa_capturas.pdf', bbox_inches='tight', transparent=True)\n",
    "fig.savefig(directorio_figs + 'mapa_capturas.png', dpi=400, bbox_inches='tight', transparent=True)"
   ]
  },
  {
   "cell_type": "code",
   "execution_count": 13,
   "metadata": {},
   "outputs": [],
   "source": [
    "path_output = '/Users/danielarisaro/Documents/Fundar/proyecto_pesca/data/data_output/'\n",
    "\n",
    "df.to_csv(path_output + 'dataset_grafico_mapa.csv')\n"
   ]
  },
  {
   "cell_type": "code",
   "execution_count": 70,
   "metadata": {},
   "outputs": [],
   "source": [
    "species_mapping = {\n",
    "    'Merluza hubbsi GSM': 'Merluza hubbsi',\n",
    "    'Merluza hubbsi N41 CTMFM': 'Merluza hubbsi',\n",
    "    'Merluza hubbsi N41 ZEEA': 'Merluza hubbsi',\n",
    "    'Merluza hubbsi S41': 'Merluza hubbsi',\n",
    "    'Variado costero':'Variado costero',\n",
    "    'Rayas (sin V. Cost)':'Rayas',\n",
    "    'Langostino':'Langostino',\n",
    "    'Calamar Illex':'Calamar Illex',\n",
    "    'Abadejo':'Abadejo',\n",
    "    'Merluza de cola':'Merluza de cola',\n",
    "    'Merluza negra':'Merluza negra',\n",
    "    'Centolla':'Centolla',\n",
    "    'Polaca':'Polaca',\n",
    "    'Anchoíta':'Anchoíta',\n",
    "    'Vieira (callos)':'Vieira',\n",
    "    'otras especies':'otras especies'\n",
    "}\n",
    "\n",
    "# Map the species to the grouped category in a new column\n",
    "df_pesca_puerto_flota['grouped_species'] = df_pesca_puerto_flota['especie_agrupada'].map(species_mapping)\n"
   ]
  },
  {
   "cell_type": "code",
   "execution_count": 82,
   "metadata": {},
   "outputs": [],
   "source": [
    "df_pesca_puerto_flota['fecha'] = pd.to_datetime(df_pesca_puerto_flota['fecha'])"
   ]
  },
  {
   "cell_type": "code",
   "execution_count": 90,
   "metadata": {},
   "outputs": [],
   "source": [
    "evolucion_merluza = df_pesca_puerto_flota.groupby(['grouped_species', pd.to_datetime(df_pesca_puerto_flota['fecha']).dt.year])['captura'].sum().loc['Merluza hubbsi']\n",
    "                      \n",
    "evolucion_calamar = df_pesca_puerto_flota.groupby(['grouped_species', pd.to_datetime(df_pesca_puerto_flota['fecha']).dt.year])['captura'].sum().loc['Calamar Illex']"
   ]
  },
  {
   "cell_type": "code",
   "execution_count": null,
   "metadata": {},
   "outputs": [],
   "source": []
  }
 ],
 "metadata": {
  "kernelspec": {
   "display_name": "daniu_env",
   "language": "python",
   "name": "python3"
  },
  "language_info": {
   "codemirror_mode": {
    "name": "ipython",
    "version": 3
   },
   "file_extension": ".py",
   "mimetype": "text/x-python",
   "name": "python",
   "nbconvert_exporter": "python",
   "pygments_lexer": "ipython3",
   "version": "3.10.5"
  }
 },
 "nbformat": 4,
 "nbformat_minor": 2
}
